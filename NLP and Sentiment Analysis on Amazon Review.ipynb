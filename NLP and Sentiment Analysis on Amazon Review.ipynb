{
 "cells": [
  {
   "cell_type": "markdown",
   "metadata": {},
   "source": [
    "# Sentiment Polarity Analysis for Amazon Food Review\n",
    "This project explored the sentiment of users of 568,454 amazon food reviews. At the begining, a study was conducted at a single user level on the language patterns contributes to the sentiment of this user in all her amazon food reviews. \n",
    "\n",
    "Futhermore, to analyze all the reviews as a whole, machine learning approaches was used for classifying sentiment polarities all the reviews. After preprocessing the data using nltk and conducting feature engineering, a comparison of classification performance was made to eight different classification algorithms and the best model (by comparing the ROC curve) was achieved by Support Vector Machine (SVM)."
   ]
  },
  {
   "cell_type": "code",
   "execution_count": 1,
   "metadata": {
    "colab": {},
    "colab_type": "code",
    "id": "UBqu86UItFQq"
   },
   "outputs": [],
   "source": [
    "# import packages maybe used later\n",
    "%matplotlib inline\n",
    "import sqlite3\n",
    "import pandas as pd\n",
    "import numpy as np\n",
    "import nltk\n",
    "import string\n",
    "import matplotlib.pyplot as plt\n",
    "import seaborn as sns\n",
    "import matplotlib as mpl\n",
    "import numpy as np\n",
    "from itertools import chain\n",
    "from nltk import ngrams\n",
    "from nltk.stem import WordNetLemmatizer\n",
    "from nltk.corpus import stopwords\n",
    "from sklearn.model_selection import train_test_split\n",
    "from sklearn.metrics import confusion_matrix\n",
    "from sklearn import metrics\n",
    "from sklearn.metrics import roc_curve, auc\n",
    "from nltk.stem.porter import PorterStemmer\n",
    "import warnings\n",
    "from sklearn.feature_extraction.text import CountVectorizer, TfidfVectorizer\n",
    "import re\n",
    "warnings.filterwarnings('ignore')"
   ]
  },
  {
   "cell_type": "code",
   "execution_count": 2,
   "metadata": {},
   "outputs": [],
   "source": [
    "# read data from csv file\n",
    "# Attention: modify file path when running in a different environment\n",
    "df = pd.read_csv('Reviews.csv')"
   ]
  },
  {
   "cell_type": "code",
   "execution_count": 3,
   "metadata": {
    "colab": {},
    "colab_type": "code",
    "id": "DV6wxA2itFQu"
   },
   "outputs": [
    {
     "data": {
      "text/plain": [
       "<matplotlib.axes._subplots.AxesSubplot at 0x1a1e0abf10>"
      ]
     },
     "execution_count": 3,
     "metadata": {},
     "output_type": "execute_result"
    },
    {
     "data": {
      "image/png": "[encoded data removed]",
      "text/plain": [
       "<Figure size 432x288 with 1 Axes>"
      ]
     },
     "metadata": {
      "needs_background": "light"
     },
     "output_type": "display_data"
    }
   ],
   "source": [
    "### Construct feature 'helpfulness'\n",
    "df['Helpful%'] = np.where(df['HelpfulnessDenominator'] > 0, df['HelpfulnessNumerator'] / df['HelpfulnessDenominator'], 0)\n",
    "\n",
    "## Clean dirty data with outliers in 'helpful'\n",
    "indexNames = df[ (df['Helpful%'] == 3) | (df['Helpful%'] == 1.5) ].index\n",
    "df.drop(indexNames , inplace=True)\n",
    "df[['Score', 'Helpful%']].describe()\n",
    "\n",
    "df[['Helpful%']].boxplot()"
   ]
  },
  {
   "cell_type": "code",
   "execution_count": 4,
   "metadata": {},
   "outputs": [
    {
     "data": {
      "text/html": [
       "<div>\n",
       "<style scoped>\n",
       "    .dataframe tbody tr th:only-of-type {\n",
       "        vertical-align: middle;\n",
       "    }\n",
       "\n",
       "    .dataframe tbody tr th {\n",
       "        vertical-align: top;\n",
       "    }\n",
       "\n",
       "    .dataframe thead th {\n",
       "        text-align: right;\n",
       "    }\n",
       "</style>\n",
       "<table border=\"1\" class=\"dataframe\">\n",
       "  <thead>\n",
       "    <tr style=\"text-align: right;\">\n",
       "      <th></th>\n",
       "      <th>Id</th>\n",
       "      <th>ProductId</th>\n",
       "      <th>UserId</th>\n",
       "      <th>ProfileName</th>\n",
       "      <th>HelpfulnessNumerator</th>\n",
       "      <th>HelpfulnessDenominator</th>\n",
       "      <th>Score</th>\n",
       "      <th>Time</th>\n",
       "      <th>Summary</th>\n",
       "      <th>Text</th>\n",
       "      <th>Helpful%</th>\n",
       "    </tr>\n",
       "  </thead>\n",
       "  <tbody>\n",
       "    <tr>\n",
       "      <th>0</th>\n",
       "      <td>1</td>\n",
       "      <td>B001E4KFG0</td>\n",
       "      <td>A3SGXH7AUHU8GW</td>\n",
       "      <td>delmartian</td>\n",
       "      <td>1</td>\n",
       "      <td>1</td>\n",
       "      <td>5</td>\n",
       "      <td>1303862400</td>\n",
       "      <td>Good Quality Dog Food</td>\n",
       "      <td>I have bought several of the Vitality canned d...</td>\n",
       "      <td>1.0</td>\n",
       "    </tr>\n",
       "    <tr>\n",
       "      <th>1</th>\n",
       "      <td>2</td>\n",
       "      <td>B00813GRG4</td>\n",
       "      <td>A1D87F6ZCVE5NK</td>\n",
       "      <td>dll pa</td>\n",
       "      <td>0</td>\n",
       "      <td>0</td>\n",
       "      <td>1</td>\n",
       "      <td>1346976000</td>\n",
       "      <td>Not as Advertised</td>\n",
       "      <td>Product arrived labeled as Jumbo Salted Peanut...</td>\n",
       "      <td>0.0</td>\n",
       "    </tr>\n",
       "    <tr>\n",
       "      <th>2</th>\n",
       "      <td>3</td>\n",
       "      <td>B000LQOCH0</td>\n",
       "      <td>ABXLMWJIXXAIN</td>\n",
       "      <td>Natalia Corres \"Natalia Corres\"</td>\n",
       "      <td>1</td>\n",
       "      <td>1</td>\n",
       "      <td>4</td>\n",
       "      <td>1219017600</td>\n",
       "      <td>\"Delight\" says it all</td>\n",
       "      <td>This is a confection that has been around a fe...</td>\n",
       "      <td>1.0</td>\n",
       "    </tr>\n",
       "  </tbody>\n",
       "</table>\n",
       "</div>"
      ],
      "text/plain": [
       "   Id   ProductId          UserId                      ProfileName  \\\n",
       "0   1  B001E4KFG0  A3SGXH7AUHU8GW                       delmartian   \n",
       "1   2  B00813GRG4  A1D87F6ZCVE5NK                           dll pa   \n",
       "2   3  B000LQOCH0   ABXLMWJIXXAIN  Natalia Corres \"Natalia Corres\"   \n",
       "\n",
       "   HelpfulnessNumerator  HelpfulnessDenominator  Score        Time  \\\n",
       "0                     1                       1      5  1303862400   \n",
       "1                     0                       0      1  1346976000   \n",
       "2                     1                       1      4  1219017600   \n",
       "\n",
       "                 Summary                                               Text  \\\n",
       "0  Good Quality Dog Food  I have bought several of the Vitality canned d...   \n",
       "1      Not as Advertised  Product arrived labeled as Jumbo Salted Peanut...   \n",
       "2  \"Delight\" says it all  This is a confection that has been around a fe...   \n",
       "\n",
       "   Helpful%  \n",
       "0       1.0  \n",
       "1       0.0  \n",
       "2       1.0  "
      ]
     },
     "execution_count": 4,
     "metadata": {},
     "output_type": "execute_result"
    }
   ],
   "source": [
    "df.head(3)"
   ]
  },
  {
   "cell_type": "code",
   "execution_count": 5,
   "metadata": {
    "colab": {
     "base_uri": "https://localhost:8080/",
     "height": 297
    },
    "colab_type": "code",
    "id": "m5eJ7d9GDsvs",
    "outputId": "383c7965-9820-4b94-ac3a-3f21994b280b"
   },
   "outputs": [
    {
     "data": {
      "text/html": [
       "<div>\n",
       "<style scoped>\n",
       "    .dataframe tbody tr th:only-of-type {\n",
       "        vertical-align: middle;\n",
       "    }\n",
       "\n",
       "    .dataframe tbody tr th {\n",
       "        vertical-align: top;\n",
       "    }\n",
       "\n",
       "    .dataframe thead th {\n",
       "        text-align: right;\n",
       "    }\n",
       "</style>\n",
       "<table border=\"1\" class=\"dataframe\">\n",
       "  <thead>\n",
       "    <tr style=\"text-align: right;\">\n",
       "      <th></th>\n",
       "      <th>Score</th>\n",
       "      <th>Helpful%</th>\n",
       "    </tr>\n",
       "  </thead>\n",
       "  <tbody>\n",
       "    <tr>\n",
       "      <th>count</th>\n",
       "      <td>568452.000000</td>\n",
       "      <td>568452.000000</td>\n",
       "    </tr>\n",
       "    <tr>\n",
       "      <th>mean</th>\n",
       "      <td>4.183198</td>\n",
       "      <td>0.407855</td>\n",
       "    </tr>\n",
       "    <tr>\n",
       "      <th>std</th>\n",
       "      <td>1.310438</td>\n",
       "      <td>0.462054</td>\n",
       "    </tr>\n",
       "    <tr>\n",
       "      <th>min</th>\n",
       "      <td>1.000000</td>\n",
       "      <td>0.000000</td>\n",
       "    </tr>\n",
       "    <tr>\n",
       "      <th>25%</th>\n",
       "      <td>4.000000</td>\n",
       "      <td>0.000000</td>\n",
       "    </tr>\n",
       "    <tr>\n",
       "      <th>50%</th>\n",
       "      <td>5.000000</td>\n",
       "      <td>0.000000</td>\n",
       "    </tr>\n",
       "    <tr>\n",
       "      <th>75%</th>\n",
       "      <td>5.000000</td>\n",
       "      <td>1.000000</td>\n",
       "    </tr>\n",
       "    <tr>\n",
       "      <th>max</th>\n",
       "      <td>5.000000</td>\n",
       "      <td>1.000000</td>\n",
       "    </tr>\n",
       "  </tbody>\n",
       "</table>\n",
       "</div>"
      ],
      "text/plain": [
       "               Score       Helpful%\n",
       "count  568452.000000  568452.000000\n",
       "mean        4.183198       0.407855\n",
       "std         1.310438       0.462054\n",
       "min         1.000000       0.000000\n",
       "25%         4.000000       0.000000\n",
       "50%         5.000000       0.000000\n",
       "75%         5.000000       1.000000\n",
       "max         5.000000       1.000000"
      ]
     },
     "execution_count": 5,
     "metadata": {},
     "output_type": "execute_result"
    }
   ],
   "source": [
    "## Clean dirty data with outliers in 'helpful'\n",
    "indexNames = df[ (df['Helpful%'] == 3) | (df['Helpful%'] == 1.5) ].index\n",
    "df.drop(indexNames , inplace=True)\n",
    "df[['Score', 'Helpful%']].describe()"
   ]
  },
  {
   "cell_type": "code",
   "execution_count": 6,
   "metadata": {
    "colab": {
     "base_uri": "https://localhost:8080/",
     "height": 282
    },
    "colab_type": "code",
    "id": "cMrWlzdoD0lc",
    "outputId": "17a16b8f-b992-4540-f319-19af6a93f198",
    "scrolled": true
   },
   "outputs": [
    {
     "data": {
      "text/plain": [
       "<matplotlib.axes._subplots.AxesSubplot at 0x1a1eb9c210>"
      ]
     },
     "execution_count": 6,
     "metadata": {},
     "output_type": "execute_result"
    },
    {
     "data": {
      "image/png": "[encoded data removed]",
      "text/plain": [
       "<Figure size 432x288 with 1 Axes>"
      ]
     },
     "metadata": {
      "needs_background": "light"
     },
     "output_type": "display_data"
    }
   ],
   "source": [
    "df[['Helpful%']].boxplot()"
   ]
  },
  {
   "cell_type": "code",
   "execution_count": 7,
   "metadata": {
    "colab": {
     "base_uri": "https://localhost:8080/",
     "height": 282
    },
    "colab_type": "code",
    "id": "2PQA6pjBD5C1",
    "outputId": "321c8682-60a6-4f0a-c16d-02ab6efd52dd"
   },
   "outputs": [
    {
     "data": {
      "text/plain": [
       "<matplotlib.axes._subplots.AxesSubplot at 0x1a23322150>"
      ]
     },
     "execution_count": 7,
     "metadata": {},
     "output_type": "execute_result"
    },
    {
     "data": {
      "image/png": "[encoded data removed]",
      "text/plain": [
       "<Figure size 432x288 with 1 Axes>"
      ]
     },
     "metadata": {
      "needs_background": "light"
     },
     "output_type": "display_data"
    }
   ],
   "source": [
    "### Distribution of the constructed feature 'Helpfulness'\n",
    "df['Helpful%'].hist()"
   ]
  },
  {
   "cell_type": "code",
   "execution_count": 8,
   "metadata": {
    "colab": {
     "base_uri": "https://localhost:8080/",
     "height": 282
    },
    "colab_type": "code",
    "id": "lx9fkuh_D1xM",
    "outputId": "ab283f19-2cd4-4dcc-844e-a5092e49b1fa"
   },
   "outputs": [
    {
     "data": {
      "text/plain": [
       "<matplotlib.axes._subplots.AxesSubplot at 0x1a2335abd0>"
      ]
     },
     "execution_count": 8,
     "metadata": {},
     "output_type": "execute_result"
    },
    {
     "data": {
      "image/png": "[encoded data removed]",
      "text/plain": [
       "<Figure size 432x288 with 1 Axes>"
      ]
     },
     "metadata": {
      "needs_background": "light"
     },
     "output_type": "display_data"
    }
   ],
   "source": [
    "### Distribution of the raw class label\n",
    "df[['Score']].boxplot()"
   ]
  },
  {
   "cell_type": "code",
   "execution_count": 9,
   "metadata": {
    "colab": {
     "base_uri": "https://localhost:8080/",
     "height": 279
    },
    "colab_type": "code",
    "id": "mGsrfBpPD9Qs",
    "outputId": "cb61b76d-cf46-40ae-ade4-a5349113a3db",
    "scrolled": true
   },
   "outputs": [
    {
     "data": {
      "image/png": "[encoded data removed]",
      "text/plain": [
       "<Figure size 432x288 with 1 Axes>"
      ]
     },
     "metadata": {
      "needs_background": "light"
     },
     "output_type": "display_data"
    }
   ],
   "source": [
    "plt.figure()\n",
    "count_classes=pd.value_counts(df['Score'], sort=False)\n",
    "count_classes.plot(kind='bar',rot=0)\n",
    "plt.xlabel('Score')\n",
    "plt.ylabel('Score counts')\n",
    "plt.savefig(\"Amazon_food_review.png\")"
   ]
  },
  {
   "cell_type": "markdown",
   "metadata": {},
   "source": [
    "## Analyses on a single user level"
   ]
  },
  {
   "cell_type": "code",
   "execution_count": 10,
   "metadata": {
    "colab": {
     "base_uri": "https://localhost:8080/",
     "height": 221
    },
    "colab_type": "code",
    "id": "i_mV7wZfEBZA",
    "outputId": "c07dcbd4-7abf-40f0-d122-c95705708c08"
   },
   "outputs": [
    {
     "name": "stdout",
     "output_type": "stream",
     "text": [
      "                                                       Score count  Score mean\n",
      "UserId         ProfileName                                                    \n",
      "A3OXHLG6DIBRW8 C. F. Hill \"CFH\"                                448    4.535714\n",
      "A1YUL9PCJR3JTY O. Brown \"Ms. O. Khannah-Brown\"                 421    4.494062\n",
      "AY12DBB0U420B  Gary Peterson                                   389    4.647815\n",
      "A281NPSIMI1C2R Rebecca of Amazon \"The Rebecca Review\"          365    4.841096\n",
      "A1Z54EM24Y40LL c2                                              256    4.453125\n",
      "A1TMAVN4CEM8U8 Gunner                                          204    4.833333\n",
      "A2MUGFV2TDQ47K Lynrie \"Oh HELL no\"                             201    3.751244\n",
      "A3TVZM3ZIXG8YW christopher hayes                               199    1.000000\n",
      "A3PJZ8TU8FDQ1K Jared Castle                                    178    4.601124\n",
      "AQQLWCMRNDFGI  Steven A. Peterson                              176    3.954545\n"
     ]
    }
   ],
   "source": [
    "#Finding users with the number of reviews they gave as well as the average score they gave\n",
    "df_user = df.groupby(['UserId', 'ProfileName']).agg({'Score':['count', 'mean']})\n",
    "df_user.columns = df_user.columns.get_level_values(1)\n",
    "df_user.columns = ['Score count', 'Score mean']\n",
    "df_user = df_user.sort_values(by = 'Score count', ascending = False)\n",
    "print(df_user.head(10))"
   ]
  },
  {
   "cell_type": "code",
   "execution_count": 11,
   "metadata": {
    "colab": {
     "base_uri": "https://localhost:8080/",
     "height": 624
    },
    "colab_type": "code",
    "id": "adx_vf9AELhn",
    "outputId": "56ac2752-7805-4f50-d6a0-bbb6954dd6cf"
   },
   "outputs": [
    {
     "name": "stdout",
     "output_type": "stream",
     "text": [
      "                                Score count  Score mean\n",
      "UserId         ProfileName                             \n",
      "A35R32TA60XD57 M. Torma                 141    3.460993\n",
      "A2M9D9BDHONV3Y A. Bennett               115    3.269565\n",
      "A2TN9C5E4A0I3F Jimmy                    110    2.727273\n",
      "A2XNJJ9TF70P4J Angie                     85    2.976471\n",
      "AJB5P7GVR0MT8  Harry the Horse           70    3.257143\n"
     ]
    },
    {
     "data": {
      "image/png": "[encoded data removed]",
      "text/plain": [
       "<Figure size 360x216 with 1 Axes>"
      ]
     },
     "metadata": {
      "needs_background": "light"
     },
     "output_type": "display_data"
    }
   ],
   "source": [
    "def plot_user(UserId):\n",
    "    df_1user = df[df['UserId'] == UserId]['Score']\n",
    "    df_1user_plot = df_1user.value_counts(sort=False)\n",
    "    ax = df_1user_plot.plot(kind = 'bar', figsize = (5,3), title = 'Score distribution of {}'.format(df[df['UserId'] == UserId]['ProfileName'].iloc[0]))\n",
    "plot_user('A3OXHLG6DIBRW8')\n",
    "### It seems that C.F.Hill tends only to give high score, so we set a boundary on the review scores \n",
    "### to find a 'fairer' customer\n",
    "print(df_user[(df_user['Score mean']<3.5) & (df_user['Score mean']>2.5)].head())"
   ]
  },
  {
   "cell_type": "code",
   "execution_count": null,
   "metadata": {
    "colab": {
     "base_uri": "https://localhost:8080/",
     "height": 136
    },
    "colab_type": "code",
    "id": "g0_0o6WeEQnn",
    "outputId": "be4a06b1-5723-40a8-a06d-9ccd4606b28d"
   },
   "outputs": [],
   "source": []
  },
  {
   "cell_type": "code",
   "execution_count": 12,
   "metadata": {
    "colab": {
     "base_uri": "https://localhost:8080/",
     "height": 624
    },
    "colab_type": "code",
    "id": "oFh1ixRgEXZz",
    "outputId": "4545b39b-e024-4f20-9fdc-44658821d362"
   },
   "outputs": [
    {
     "data": {
      "image/png": "[encoded data removed]",
      "text/plain": [
       "<Figure size 360x216 with 1 Axes>"
      ]
     },
     "metadata": {
      "needs_background": "light"
     },
     "output_type": "display_data"
    }
   ],
   "source": [
    "plot_user('A2M9D9BDHONV3Y')\n",
    "## He is much more mutual in giving scores"
   ]
  },
  {
   "cell_type": "code",
   "execution_count": 13,
   "metadata": {
    "colab": {
     "base_uri": "https://localhost:8080/",
     "height": 714
    },
    "colab_type": "code",
    "id": "xMxV9gWcEbuc",
    "outputId": "8a0e4fed-5305-49dc-a68f-8d59f2502361"
   },
   "outputs": [
    {
     "name": "stdout",
     "output_type": "stream",
     "text": [
      "score 1 reviews most popular 2-gram / 3-gram:\n",
      "   Count  Occur %                   Phrase\n",
      "0   31.0  119.23%               (..., ...)\n",
      "1   17.0   65.38%          (..., ..., ...)\n",
      "2   11.0   42.31%             (never, buy)\n",
      "3    9.0   34.62%           (buy, product)\n",
      "4    8.0   30.77%  (monosodium, glutamate)\n",
      "5    8.0   30.77%    (never, buy, product)\n",
      "6    7.0   26.92%         (dry, tasteless)\n",
      "7    7.0   26.92%            (decide, try)\n",
      "8    7.0   26.92%          (picture, look)\n",
      "score 2 reviews most popular 2-gram / 3-gram:\n",
      "    Count Occur %                Phrase\n",
      "0     8.0  47.06%         (ruin, whole)\n",
      "1     8.0  47.06%  (sauce, ruin, whole)\n",
      "2     8.0  47.06%         (sauce, ruin)\n",
      "3     6.0  35.29%            (n't, buy)\n",
      "4     6.0  35.29%       (product, ever)\n",
      "5     5.0  29.41%         (taste, like)\n",
      "6     5.0  29.41%    (.give, try, like)\n",
      "7     5.0  29.41%            (n't, get)\n",
      "8     5.0  29.41%          (get, wrong)\n",
      "9     5.0  29.41%     (n't, get, wrong)\n",
      "10    5.0  29.41%          (..., .give)\n",
      "11    5.0  29.41%     (buy, particular)\n",
      "12    5.0  29.41%           (try, like)\n",
      "13    5.0  29.41%     (..., .give, try)\n",
      "14    5.0  29.41%          (.give, try)\n",
      "score 3 reviews most popular 2-gram / 3-gram:\n",
      "   Count Occur %         Phrase\n",
      "0    7.0   50.0%     (..., ...)\n",
      "1    4.0  28.57%  (taste, like)\n",
      "2    4.0  28.57%   (whole, lot)\n",
      "score 4 reviews most popular 2-gram / 3-gram:\n",
      "   Count Occur %               Phrase\n",
      "0    6.0   37.5%  (highly, recommend)\n",
      "1    5.0  31.25%         (side, dish)\n",
      "2    4.0   25.0%       (potato, chip)\n",
      "score 5 reviews most popular 2-gram / 3-gram:\n",
      "   Count Occur %               Phrase\n",
      "0   18.0  42.86%  (highly, recommend)\n"
     ]
    }
   ],
   "source": [
    "def get_token_ngram(score, benchmark, userid='all'):\n",
    "\n",
    "    if userid != 'all':\n",
    "        df1 = df[(df['UserId'] == userid) & (df['Score'] == score)]['Text']\n",
    "    else:\n",
    "        df1 = df[df['Score'] == score]['Text']\n",
    "        \n",
    "    count = len(df1)\n",
    "    total_text = ' '.join(df1)\n",
    "    total_text = total_text.lower()\n",
    "    stop = set(stopwords.words('english'))\n",
    "    total_text = nltk.word_tokenize(total_text)\n",
    "    total_text = [word for word in total_text if word not in stop and len(word) >= 3]\n",
    "    lemmatizer = WordNetLemmatizer()\n",
    "    total_text = [lemmatizer.lemmatize(w,'v') for w in total_text]\n",
    "    bigrams = ngrams(total_text,2)\n",
    "    trigrams = ngrams(total_text, 3)\n",
    "\n",
    "    # look at 2-gram and 3-gram together\n",
    "    combine = chain(bigrams, trigrams)\n",
    "    text = nltk.Text(combine)\n",
    "    fdist = nltk.FreqDist(text)\n",
    "    \n",
    "    # return only phrase occurs more than benchmark of his reviews\n",
    "    return sorted([(w,fdist[w],str(round(fdist[w]/count*100,2))+'%') for w in set(text) if fdist[w] >= count*benchmark], key=lambda x: -x[1])\n",
    "\n",
    "# score 1-5 reviews with this user\n",
    "index = ['Phrase', 'Count', 'Occur %']\n",
    "\n",
    "for j in range(1,6):\n",
    "    test = pd.DataFrame()\n",
    "    d = get_token_ngram(j, 0.25, 'A2M9D9BDHONV3Y')\n",
    "    print('score {} reviews most popular 2-gram / 3-gram:'.format(j))\n",
    "    for i in d:\n",
    "        test = test.append(pd.Series(i, index = index), ignore_index = True)\n",
    "    test = test.sort_values('Count', ascending=False)\n",
    "    print(test)\n",
    "    \n",
    "### However, this table(left) is not very useful \n",
    "### because we can not get a user's preference from words like “never buy” and “highly recommend”. "
   ]
  },
  {
   "cell_type": "code",
   "execution_count": 14,
   "metadata": {
    "colab": {},
    "colab_type": "code",
    "id": "PhHLzXxxFK9z"
   },
   "outputs": [],
   "source": [
    "### In order to discover more useful information, we only analyze the adjective words from reviews. \n",
    "### The new table(right) is the most frequent adjective words that “A.Bennett” would like to use.\n",
    "def get_token_adj(score, benchmark, userid='all'):\n",
    "    \n",
    "    if userid != 'all':\n",
    "        df2 = df[(df['UserId'] == userid) & (df['Score'] == score)]['Text']\n",
    "    else:\n",
    "        df2 = df[df['Score'] == score]['Text']\n",
    "        \n",
    "    count = len(df2)\n",
    "    total_text = ' '.join(df2)\n",
    "    total_text = total_text.lower()\n",
    "    stop = set(stopwords.words('english'))\n",
    "    total_text = nltk.word_tokenize(total_text)\n",
    "    total_text = [word for word in total_text if word not in stop and len(word) >= 3]\n",
    "    lemmatizer = WordNetLemmatizer()\n",
    "    total_text = [lemmatizer.lemmatize(w,'a') for w in total_text]\n",
    "    # get adjective only\n",
    "    total_text = [word for word, form in nltk.pos_tag(total_text) if form == 'JJ']\n",
    "    \n",
    "    text = nltk.Text(total_text)\n",
    "    fdist = nltk.FreqDist(text)\n",
    "    \n",
    "    # return only phrase occurs more than benchmark of his reviews\n",
    "    return sorted([(w,fdist[w],str(round(fdist[w]/count*100,2))+'%') for w in set(text) if fdist[w] >= count*benchmark], key=lambda x: -x[1])"
   ]
  },
  {
   "cell_type": "code",
   "execution_count": 15,
   "metadata": {
    "colab": {
     "base_uri": "https://localhost:8080/",
     "height": 901
    },
    "colab_type": "code",
    "id": "-6Ps2keZFNmz",
    "outputId": "2e32f52a-9ee6-4494-a086-42e7af5c3b88",
    "scrolled": true
   },
   "outputs": [
    {
     "name": "stdout",
     "output_type": "stream",
     "text": [
      "score 1 reviews most popular adjectives word:\n",
      "   Count Occur %     Phrase\n",
      "0   13.0   50.0%        dry\n",
      "1   12.0  46.15%     cheese\n",
      "2   10.0  38.46%        bad\n",
      "3   10.0  38.46%     little\n",
      "4    8.0  30.77%  delicious\n",
      "5    8.0  30.77%       hard\n",
      "6    8.0  30.77%  expensive\n",
      "7    8.0  30.77%      tasty\n",
      "8    7.0  26.92%       poor\n",
      "9    7.0  26.92%      bread\n",
      "score 2 reviews most popular adjectives word:\n",
      "   Count Occur %      Phrase\n",
      "0   10.0  58.82%       whole\n",
      "1    8.0  47.06%      cheese\n",
      "2    6.0  35.29%   delicious\n",
      "3    6.0  35.29%       wrong\n",
      "4    6.0  35.29%       awful\n",
      "5    5.0  29.41%       .give\n",
      "6    5.0  29.41%        good\n",
      "7    5.0  29.41%  particular\n",
      "score 3 reviews most popular adjectives word:\n",
      "   Count Occur %        Phrase\n",
      "0    9.0  64.29%         whole\n",
      "1    5.0  35.71%          high\n",
      "2    4.0  28.57%  disappointed\n",
      "3    4.0  28.57%         first\n",
      "4    4.0  28.57%         great\n",
      "5    4.0  28.57%          good\n",
      "score 4 reviews most popular adjectives word:\n",
      "   Count Occur %     Phrase\n",
      "0    9.0  56.25%      great\n",
      "1    8.0   50.0%  delicious\n",
      "2    5.0  31.25%  recommend\n",
      "3    5.0  31.25%     little\n",
      "4    4.0   25.0%       much\n",
      "5    4.0   25.0%       sure\n",
      "6    4.0   25.0%    regular\n",
      "7    4.0   25.0%       high\n",
      "8    4.0   25.0%   multiple\n",
      "9    4.0   25.0%       good\n",
      "score 5 reviews most popular adjectives word:\n",
      "   Count Occur %     Phrase\n",
      "0   31.0  73.81%  delicious\n",
      "1   18.0  42.86%      great\n",
      "2   13.0  30.95%      first\n",
      "3   13.0  30.95%       high\n",
      "4   12.0  28.57%      fresh\n"
     ]
    }
   ],
   "source": [
    "# score 1-5 reviews with this user\n",
    "index = ['Phrase', 'Count', 'Occur %']\n",
    "\n",
    "for j in range(1,6):\n",
    "    test = pd.DataFrame()\n",
    "    d = get_token_adj(j, 0.25, 'A2M9D9BDHONV3Y')\n",
    "    print('score {} reviews most popular adjectives word:'.format(j))\n",
    "    for i in d:\n",
    "        test = test.append(pd.Series(i, index = index), ignore_index = True)\n",
    "    test = test.sort_values('Count', ascending=False)\n",
    "    print(test)"
   ]
  },
  {
   "cell_type": "raw",
   "metadata": {},
   "source": [
    "From the new table(right), we can find that the user “A.Bennett” likes fresh food, does not like dry food and cheese. "
   ]
  },
  {
   "cell_type": "markdown",
   "metadata": {},
   "source": [
    "## Analysis on the entire review -- a machine learning approach\n",
    "We selected algorithms such as naive bayes, logistic regression, support vector machine, decision tree, GBDT, neural network, in our comparison. Following is the parameter setting of those classifiers.\n",
    "\n",
    "As the dataset is imbalanced which has 354,975 positive reviews as opposed to 65676 negative reviews, we used AUC ROC (Area Under Curve -Receiver Operator Characteristic) to evaluate model performance as it is an unbiased estimation of the probability prediction of the classifier, with a consideration of the balance between true positive rate and false positive rate."
   ]
  },
  {
   "cell_type": "markdown",
   "metadata": {},
   "source": [
    "#### Prepare Dataset for machine learning"
   ]
  },
  {
   "cell_type": "code",
   "execution_count": 16,
   "metadata": {
    "colab": {},
    "colab_type": "code",
    "id": "XDPRQtQRtFQ0"
   },
   "outputs": [],
   "source": [
    "### abandon reviews whose score is 3\n",
    "df = df[df['Score'] != 3]\n",
    "temp_dict = {1:0, 2:0, 4:1, 5:1} \n",
    "### Define class label\n",
    "df['Sentiment'] = df['Score'].map(temp_dict)"
   ]
  },
  {
   "cell_type": "code",
   "execution_count": 17,
   "metadata": {
    "colab": {},
    "colab_type": "code",
    "id": "EokPJtwftFQ6"
   },
   "outputs": [],
   "source": [
    "#### Data Cleaning\n",
    "cleanup_re = re.compile('[^a-z]+') # Regular expression to filter non-alpha characters \n",
    "html_cleaner = re.compile('<.*?>') # To filter html tags\n",
    "def cleanup(sentence):\n",
    "    sentence = sentence.lower()\n",
    "    sentence = cleanup_re.sub(' ', sentence).strip()\n",
    "    sentence = html_cleaner.sub(' ', sentence).strip()\n",
    "    sentence = sentence.replace('www','')\n",
    "    sentence = sentence.replace('http','')\n",
    "    sentence = sentence.replace('href','')\n",
    "    return sentence\n",
    "\n",
    "df['Text_Clean'] = df['Text'].apply(cleanup)\n",
    "\n",
    "### Vectorization using tf - idf technique\n",
    "tfidf_vec = TfidfVectorizer(min_df = 1, max_features = 500, ngram_range = (1, 2), stop_words='english')"
   ]
  },
  {
   "cell_type": "code",
   "execution_count": 18,
   "metadata": {
    "colab": {},
    "colab_type": "code",
    "id": "uT6qEJ3StFRE"
   },
   "outputs": [
    {
     "name": "stdout",
     "output_type": "stream",
     "text": [
      "Number of features: 500\n",
      "Number of instances in train set: 420649\n",
      "Number of instances in test set: 105163\n"
     ]
    }
   ],
   "source": [
    "# Train - test split for machine learning models\n",
    "def vectorize(vec):\n",
    "    X_tfidf = tfidf_vec.fit_transform(df[\"Text_Clean\"])\n",
    "    Y_sentiment = df['Sentiment']\n",
    "    X_train, X_test, y_train, y_test = train_test_split(X_tfidf, Y_sentiment, test_size=0.2)\n",
    "    print('Number of features: {}'.format(X_tfidf.shape[1]))\n",
    "    print('Number of instances in train set: {}'.format(X_train.shape[0]))\n",
    "    print('Number of instances in test set: {}'.format(X_test.shape[0]))\n",
    "    return X_train, X_test, y_train, y_test\n",
    "X_train, X_test, y_train, y_test = vectorize(tfidf_vec)"
   ]
  },
  {
   "cell_type": "code",
   "execution_count": 19,
   "metadata": {
    "colab": {
     "base_uri": "https://localhost:8080/",
     "height": 34
    },
    "colab_type": "code",
    "id": "OWlaF4Kf4geb",
    "outputId": "10d8cea0-1de2-4c42-f958-37b1bbe174fd",
    "scrolled": true
   },
   "outputs": [
    {
     "data": {
      "text/plain": [
       "1    355120\n",
       "0     65529\n",
       "Name: Sentiment, dtype: int64"
      ]
     },
     "execution_count": 19,
     "metadata": {},
     "output_type": "execute_result"
    }
   ],
   "source": [
    "y_train.value_counts()"
   ]
  },
  {
   "cell_type": "markdown",
   "metadata": {},
   "source": [
    "### Building Architecture for performance comparison using ROC"
   ]
  },
  {
   "cell_type": "code",
   "execution_count": 20,
   "metadata": {
    "colab": {},
    "colab_type": "code",
    "id": "QxNZHLHQH49_"
   },
   "outputs": [],
   "source": [
    "### Build dictionary to store predictions from all models\n",
    "prediction = {}"
   ]
  },
  {
   "cell_type": "markdown",
   "metadata": {},
   "source": [
    "#### Construct different models and make prediction"
   ]
  },
  {
   "cell_type": "code",
   "execution_count": 21,
   "metadata": {
    "colab": {},
    "colab_type": "code",
    "id": "wLlYL9TQH49z"
   },
   "outputs": [],
   "source": [
    "### Logistic Regression\n",
    "from sklearn.linear_model import LogisticRegression\n",
    "logreg = LogisticRegression(C=1e5)  ### C is regularization strength\n",
    "logreg_result = logreg.fit(X_train, y_train)\n",
    "prediction['Logistic'] = logreg.predict(X_test)"
   ]
  },
  {
   "cell_type": "code",
   "execution_count": 22,
   "metadata": {
    "colab": {},
    "colab_type": "code",
    "id": "zqXFRFOmH4-B"
   },
   "outputs": [],
   "source": [
    "### Naive Bayes\n",
    "from sklearn.naive_bayes import MultinomialNB\n",
    "model = MultinomialNB().fit(X_train, y_train)\n",
    "prediction['Multinomial'] = model.predict(X_test)\n",
    "\n",
    "from sklearn.naive_bayes import BernoulliNB\n",
    "model = BernoulliNB().fit(X_train, y_train)\n",
    "prediction['Bernoulli'] = model.predict(X_test)"
   ]
  },
  {
   "cell_type": "code",
   "execution_count": 23,
   "metadata": {
    "colab": {},
    "colab_type": "code",
    "id": "dA2LfzO8H4-G"
   },
   "outputs": [
    {
     "name": "stdout",
     "output_type": "stream",
     "text": [
      "Iteration 1, loss = 0.29288064\n",
      "Iteration 2, loss = 0.28331570\n",
      "Iteration 3, loss = 0.28353891\n",
      "Iteration 4, loss = 0.28320364\n",
      "Iteration 5, loss = 0.28283181\n",
      "Iteration 6, loss = 0.28322124\n",
      "Iteration 7, loss = 0.28345198\n",
      "Iteration 8, loss = 0.28296764\n",
      "Iteration 9, loss = 0.28308024\n",
      "Iteration 10, loss = 0.28306917\n",
      "Iteration 11, loss = 0.28325243\n",
      "Iteration 12, loss = 0.28291507\n",
      "Iteration 13, loss = 0.28306940\n",
      "Iteration 14, loss = 0.28313425\n",
      "Iteration 15, loss = 0.28290368\n",
      "Iteration 16, loss = 0.28310244\n",
      "Training loss did not improve more than tol=0.000100 for 10 consecutive epochs. Stopping.\n"
     ]
    }
   ],
   "source": [
    "### Neural Network - MLP\n",
    "from sklearn.neural_network import MLPClassifier\n",
    "mlp = MLPClassifier(hidden_layer_sizes=30, alpha=0.01, learning_rate_init=0.05, verbose=True).fit(X_train, y_train)\n",
    "prediction['Nueral Network'] = mlp.predict(X_test)\n"
   ]
  },
  {
   "cell_type": "code",
   "execution_count": 24,
   "metadata": {
    "colab": {},
    "colab_type": "code",
    "id": "vovzyYEpH4-O"
   },
   "outputs": [],
   "source": [
    "### SVM\n",
    "from sklearn.linear_model import SGDClassifier\n",
    "from sklearn.calibration import CalibratedClassifierCV\n",
    "from sklearn.svm import SVC\n",
    "SGD=SGDClassifier(alpha=0.01)\n",
    "svm=CalibratedClassifierCV(SGD, cv=3)\n",
    "svm_model = svm.fit(X_train,y_train)\n",
    "prediction['svm']=svm_model.predict_proba(X_test)[:,1]"
   ]
  },
  {
   "cell_type": "code",
   "execution_count": 25,
   "metadata": {
    "colab": {},
    "colab_type": "code",
    "id": "-EgKB-Y_H4-X"
   },
   "outputs": [],
   "source": [
    "### Decision Tree\n",
    "from sklearn.tree import DecisionTreeClassifier\n",
    "dt=DecisionTreeClassifier(max_depth=50,min_samples_split=500)\n",
    "model = dt.fit(X_train,y_train)\n",
    "prediction['Decision Tree']=model.predict_proba(X_test)[:,1]"
   ]
  },
  {
   "cell_type": "code",
   "execution_count": 26,
   "metadata": {
    "colab": {},
    "colab_type": "code",
    "id": "YqCPCR4dH4-b"
   },
   "outputs": [],
   "source": [
    "### Gradient Boosted Decision Tree\n",
    "from sklearn.ensemble import GradientBoostingClassifier\n",
    "GBDT = GradientBoostingClassifier(n_estimators=100, learning_rate=1.0,max_depth=1, random_state=0).fit(X_train, y_train)\n",
    "prediction['GBDT'] = GBDT.predict_proba(X_test)[:,1]"
   ]
  },
  {
   "cell_type": "code",
   "execution_count": 27,
   "metadata": {
    "colab": {},
    "colab_type": "code",
    "id": "SbOYSpdfH4-e"
   },
   "outputs": [],
   "source": [
    "### Random Forest\n",
    "from sklearn.ensemble import RandomForestClassifier\n",
    "rfc = RandomForestClassifier(n_estimators = 50, max_depth = 50).fit(X_train, y_train)\n",
    "prediction['Random_Forest'] = rfc.predict(X_test)"
   ]
  },
  {
   "cell_type": "code",
   "execution_count": 28,
   "metadata": {
    "colab": {
     "base_uri": "https://localhost:8080/",
     "height": 312
    },
    "colab_type": "code",
    "id": "V_TmdvqBH4-k",
    "outputId": "9aafd8f0-686d-4415-e467-8c8636d552f3"
   },
   "outputs": [
    {
     "data": {
      "image/png": "[encoded data removed]",
      "text/plain": [
       "<Figure size 432x288 with 1 Axes>"
      ]
     },
     "metadata": {
      "needs_background": "light"
     },
     "output_type": "display_data"
    },
    {
     "data": {
      "text/plain": [
       "<Figure size 14400x14400 with 0 Axes>"
      ]
     },
     "metadata": {},
     "output_type": "display_data"
    }
   ],
   "source": [
    "### Compare ROC curve all different classifiers\n",
    "cmp = 0\n",
    "colors = ['b', 'g', 'y', 'm', 'k', 'r', 'p','orange']\n",
    "prediction.keys()\n",
    "for model, predicted in prediction.items():\n",
    "    false_positive_rate, true_positive_rate, thresholds = roc_curve(y_test, predicted)\n",
    "    roc_auc = auc(false_positive_rate, true_positive_rate)\n",
    "    plt.plot(false_positive_rate, true_positive_rate, colors[cmp], label='%s: AUC %0.2f'% (model,roc_auc))\n",
    "    cmp += 1\n",
    "\n",
    "plt.title('Classifiers comparaison with ROC')\n",
    "plt.legend(loc='lower right')\n",
    "plt.plot([0,1],[0,1],'r--')\n",
    "plt.xlim([-0.1,1.2])\n",
    "plt.ylim([-0.1,1.2])\n",
    "plt.ylabel('True Positive Rate')\n",
    "plt.xlabel('False Positive Rate')\n",
    "plt.figure(figsize=(200.0,200.0))\n",
    "plt.show()"
   ]
  },
  {
   "cell_type": "raw",
   "metadata": {},
   "source": [
    "As we can see from the output of the models, the model that achieves the highest classification performance is Support Vector Machine (SVM), achieving an AUC of 0.89."
   ]
  },
  {
   "cell_type": "markdown",
   "metadata": {},
   "source": [
    "### Interpretability of Support Vector Machine outcome"
   ]
  },
  {
   "cell_type": "raw",
   "metadata": {},
   "source": [
    "From the top 10 positive features (as figure shown below), we could find that words like “great”, “good”, “love”, “like”, “best” always lead to positive reviews. Words like “flavor”, “taste”, “price” also indicate that the customers are very concerned about products’ taste and price. Furthermore, words like “coffee”, “tea” appeared here tell us that coffee and tea are very welcome by the customers because most of the reviews about coffee and tea are positive reviews"
   ]
  },
  {
   "cell_type": "code",
   "execution_count": 29,
   "metadata": {
    "colab": {
     "base_uri": "https://localhost:8080/",
     "height": 207
    },
    "colab_type": "code",
    "id": "HOz0hH_8H4-R",
    "outputId": "9181bf30-23b1-47ab-88c7-e1fb8a59dd73"
   },
   "outputs": [
    {
     "name": "stdout",
     "output_type": "stream",
     "text": [
      "Top 10 positive features :\n",
      "br\n",
      "great\n",
      "good\n",
      "love\n",
      "coffee\n",
      "tea\n",
      "like\n",
      "flavor\n",
      "just\n",
      "best\n"
     ]
    }
   ],
   "source": [
    "#top 10 positive features\n",
    "all_features = tfidf_vec.get_feature_names()\n",
    "model=SGDClassifier(alpha=1)\n",
    "model.fit(X_train,y_train)\n",
    "weight=model.coef_\n",
    "pos_indx=np.argsort(weight)[:,::-1]\n",
    "neg_indx=np.argsort(weight)\n",
    "print('Top 10 positive features :')\n",
    "for i in list(pos_indx[0][0:10]):\n",
    "    print(all_features[i])"
   ]
  },
  {
   "cell_type": "raw",
   "metadata": {},
   "source": [
    "Form the top 10 negative features of svm (as figure shown below), we could see that words like “disappointed”, “noticed”, “ wrong” always lead to negative reviews. Words like “opened”, “money”, “tastes like”, “after taste”, “looked”, “artificial”, “inside”appear here may indicate that customers are more concerns about how the food tastes like, how well the food is packaged, whether the food is worth the price, and what the food contains. "
   ]
  },
  {
   "cell_type": "code",
   "execution_count": 30,
   "metadata": {
    "colab": {
     "base_uri": "https://localhost:8080/",
     "height": 207
    },
    "colab_type": "code",
    "id": "6E7Cfm4vH4-T",
    "outputId": "6bb799e9-c7c8-4ac5-e02a-477af3e76fc1"
   },
   "outputs": [
    {
     "name": "stdout",
     "output_type": "stream",
     "text": [
      "Top 10 negative features :\n",
      "disappointed\n",
      "opened\n",
      "money\n",
      "ingredient\n",
      "guess\n",
      "tastes like\n",
      "maybe\n",
      "wouldn\n",
      "star\n",
      "looked\n"
     ]
    }
   ],
   "source": [
    "#top 10 negative features\n",
    "print('Top 10 negative features :')\n",
    "for i in list(neg_indx[0][0:10]):\n",
    "    print(all_features[i])"
   ]
  },
  {
   "cell_type": "raw",
   "metadata": {},
   "source": [
    "References:\n",
    "[1] Neethu, M. S., & Rajasree, R. (2013, July). Sentiment analysis in twitter using machine learning techniques. In 2013 Fourth International Conference on Computing, Communications and Networking Technologies (ICCCNT) (pp. 1-5). IEEE.\n",
    "[2] Kolchyna, Olga &Souza, Thársis & Treleaven, Philip & Aste, Tomaso. (2015). TwitterSentiment Analysis: Lexicon Method, Machine Learning Method and Their Combination.\n",
    "[3] Brownlee, J. (2017). A gentle introduction to the bag-of-words model. Machine LearningMastery, 21.\n",
    "[4] Singhal, P., & Bhattacharyya, P. (2016). Sentiment analysis and deep learning: a survey.Center for Indian Language Technology, Indian Institute of Technology, Bombay."
   ]
  },
  {
   "cell_type": "code",
   "execution_count": null,
   "metadata": {},
   "outputs": [],
   "source": []
  }
 ],
 "metadata": {
  "accelerator": "GPU",
  "colab": {
   "name": "Codes.ipynb",
   "provenance": []
  },
  "kernelspec": {
   "display_name": "Python 3",
   "language": "python",
   "name": "python3"
  },
  "language_info": {
   "codemirror_mode": {
    "name": "ipython",
    "version": 3
   },
   "file_extension": ".py",
   "mimetype": "text/x-python",
   "name": "python",
   "nbconvert_exporter": "python",
   "pygments_lexer": "ipython3",
   "version": "3.7.5"
  }
 },
 "nbformat": 4,
 "nbformat_minor": 1
}
